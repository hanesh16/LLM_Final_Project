{
  "cells": [
    {
      "cell_type": "markdown",
      "metadata": {
        "id": "No17Cw5hgx12"
      },
      "source": [
        "### Installing the  Vertex AI\n"
      ]
    },
    {
      "cell_type": "code",
      "execution_count": 2,
      "metadata": {
        "id": "tFy3H3aPgx12",
        "tags": [],
        "colab": {
          "base_uri": "https://localhost:8080/"
        },
        "executionInfo": {
          "status": "ok",
          "timestamp": 1710839681894,
          "user_tz": 420,
          "elapsed": 9884,
          "user": {
            "displayName": "",
            "userId": ""
          }
        },
        "outputId": "1aff1a92-2fe7-4bc5-e2cd-b1df537c7376"
      },
      "outputs": [
        {
          "output_type": "stream",
          "name": "stdout",
          "text": [
            "Requirement already satisfied: google-cloud-aiplatform in /root/.local/lib/python3.10/site-packages (1.44.0)\n",
            "Requirement already satisfied: google-api-core[grpc]!=2.0.*,!=2.1.*,!=2.2.*,!=2.3.*,!=2.4.*,!=2.5.*,!=2.6.*,!=2.7.*,<3.0.0dev,>=1.34.1 in /usr/local/lib/python3.10/dist-packages (from google-cloud-aiplatform) (2.11.1)\n",
            "Requirement already satisfied: google-auth<3.0.0dev,>=2.14.1 in /usr/local/lib/python3.10/dist-packages (from google-cloud-aiplatform) (2.27.0)\n",
            "Requirement already satisfied: proto-plus<2.0.0dev,>=1.22.0 in /usr/local/lib/python3.10/dist-packages (from google-cloud-aiplatform) (1.23.0)\n",
            "Requirement already satisfied: protobuf!=3.20.0,!=3.20.1,!=4.21.0,!=4.21.1,!=4.21.2,!=4.21.3,!=4.21.4,!=4.21.5,<5.0.0dev,>=3.19.5 in /usr/local/lib/python3.10/dist-packages (from google-cloud-aiplatform) (3.20.3)\n",
            "Requirement already satisfied: packaging>=14.3 in /usr/local/lib/python3.10/dist-packages (from google-cloud-aiplatform) (23.2)\n",
            "Requirement already satisfied: google-cloud-storage<3.0.0dev,>=1.32.0 in /usr/local/lib/python3.10/dist-packages (from google-cloud-aiplatform) (2.8.0)\n",
            "Requirement already satisfied: google-cloud-bigquery<4.0.0dev,>=1.15.0 in /usr/local/lib/python3.10/dist-packages (from google-cloud-aiplatform) (3.12.0)\n",
            "Requirement already satisfied: google-cloud-resource-manager<3.0.0dev,>=1.3.3 in /usr/local/lib/python3.10/dist-packages (from google-cloud-aiplatform) (1.12.2)\n",
            "Requirement already satisfied: shapely<3.0.0dev in /usr/local/lib/python3.10/dist-packages (from google-cloud-aiplatform) (2.0.3)\n",
            "Requirement already satisfied: googleapis-common-protos<2.0.dev0,>=1.56.2 in /usr/local/lib/python3.10/dist-packages (from google-api-core[grpc]!=2.0.*,!=2.1.*,!=2.2.*,!=2.3.*,!=2.4.*,!=2.5.*,!=2.6.*,!=2.7.*,<3.0.0dev,>=1.34.1->google-cloud-aiplatform) (1.62.0)\n",
            "Requirement already satisfied: requests<3.0.0.dev0,>=2.18.0 in /usr/local/lib/python3.10/dist-packages (from google-api-core[grpc]!=2.0.*,!=2.1.*,!=2.2.*,!=2.3.*,!=2.4.*,!=2.5.*,!=2.6.*,!=2.7.*,<3.0.0dev,>=1.34.1->google-cloud-aiplatform) (2.31.0)\n",
            "Requirement already satisfied: grpcio<2.0dev,>=1.33.2 in /usr/local/lib/python3.10/dist-packages (from google-api-core[grpc]!=2.0.*,!=2.1.*,!=2.2.*,!=2.3.*,!=2.4.*,!=2.5.*,!=2.6.*,!=2.7.*,<3.0.0dev,>=1.34.1->google-cloud-aiplatform) (1.62.0)\n",
            "Requirement already satisfied: grpcio-status<2.0.dev0,>=1.33.2 in /usr/local/lib/python3.10/dist-packages (from google-api-core[grpc]!=2.0.*,!=2.1.*,!=2.2.*,!=2.3.*,!=2.4.*,!=2.5.*,!=2.6.*,!=2.7.*,<3.0.0dev,>=1.34.1->google-cloud-aiplatform) (1.48.2)\n",
            "Requirement already satisfied: cachetools<6.0,>=2.0.0 in /usr/local/lib/python3.10/dist-packages (from google-auth<3.0.0dev,>=2.14.1->google-cloud-aiplatform) (5.3.3)\n",
            "Requirement already satisfied: pyasn1-modules>=0.2.1 in /usr/local/lib/python3.10/dist-packages (from google-auth<3.0.0dev,>=2.14.1->google-cloud-aiplatform) (0.3.0)\n",
            "Requirement already satisfied: rsa<5,>=3.1.4 in /usr/local/lib/python3.10/dist-packages (from google-auth<3.0.0dev,>=2.14.1->google-cloud-aiplatform) (4.9)\n",
            "Requirement already satisfied: google-cloud-core<3.0.0dev,>=1.6.0 in /usr/local/lib/python3.10/dist-packages (from google-cloud-bigquery<4.0.0dev,>=1.15.0->google-cloud-aiplatform) (2.3.3)\n",
            "Requirement already satisfied: google-resumable-media<3.0dev,>=0.6.0 in /usr/local/lib/python3.10/dist-packages (from google-cloud-bigquery<4.0.0dev,>=1.15.0->google-cloud-aiplatform) (2.7.0)\n",
            "Requirement already satisfied: python-dateutil<3.0dev,>=2.7.2 in /usr/local/lib/python3.10/dist-packages (from google-cloud-bigquery<4.0.0dev,>=1.15.0->google-cloud-aiplatform) (2.8.2)\n",
            "Requirement already satisfied: grpc-google-iam-v1<1.0.0dev,>=0.12.4 in /usr/local/lib/python3.10/dist-packages (from google-cloud-resource-manager<3.0.0dev,>=1.3.3->google-cloud-aiplatform) (0.13.0)\n",
            "Requirement already satisfied: numpy<2,>=1.14 in /usr/local/lib/python3.10/dist-packages (from shapely<3.0.0dev->google-cloud-aiplatform) (1.25.2)\n",
            "Requirement already satisfied: google-crc32c<2.0dev,>=1.0 in /usr/local/lib/python3.10/dist-packages (from google-resumable-media<3.0dev,>=0.6.0->google-cloud-bigquery<4.0.0dev,>=1.15.0->google-cloud-aiplatform) (1.5.0)\n",
            "Requirement already satisfied: pyasn1<0.6.0,>=0.4.6 in /usr/local/lib/python3.10/dist-packages (from pyasn1-modules>=0.2.1->google-auth<3.0.0dev,>=2.14.1->google-cloud-aiplatform) (0.5.1)\n",
            "Requirement already satisfied: six>=1.5 in /usr/local/lib/python3.10/dist-packages (from python-dateutil<3.0dev,>=2.7.2->google-cloud-bigquery<4.0.0dev,>=1.15.0->google-cloud-aiplatform) (1.16.0)\n",
            "Requirement already satisfied: charset-normalizer<4,>=2 in /usr/local/lib/python3.10/dist-packages (from requests<3.0.0.dev0,>=2.18.0->google-api-core[grpc]!=2.0.*,!=2.1.*,!=2.2.*,!=2.3.*,!=2.4.*,!=2.5.*,!=2.6.*,!=2.7.*,<3.0.0dev,>=1.34.1->google-cloud-aiplatform) (3.3.2)\n",
            "Requirement already satisfied: idna<4,>=2.5 in /usr/local/lib/python3.10/dist-packages (from requests<3.0.0.dev0,>=2.18.0->google-api-core[grpc]!=2.0.*,!=2.1.*,!=2.2.*,!=2.3.*,!=2.4.*,!=2.5.*,!=2.6.*,!=2.7.*,<3.0.0dev,>=1.34.1->google-cloud-aiplatform) (3.6)\n",
            "Requirement already satisfied: urllib3<3,>=1.21.1 in /usr/local/lib/python3.10/dist-packages (from requests<3.0.0.dev0,>=2.18.0->google-api-core[grpc]!=2.0.*,!=2.1.*,!=2.2.*,!=2.3.*,!=2.4.*,!=2.5.*,!=2.6.*,!=2.7.*,<3.0.0dev,>=1.34.1->google-cloud-aiplatform) (2.0.7)\n",
            "Requirement already satisfied: certifi>=2017.4.17 in /usr/local/lib/python3.10/dist-packages (from requests<3.0.0.dev0,>=2.18.0->google-api-core[grpc]!=2.0.*,!=2.1.*,!=2.2.*,!=2.3.*,!=2.4.*,!=2.5.*,!=2.6.*,!=2.7.*,<3.0.0dev,>=1.34.1->google-cloud-aiplatform) (2024.2.2)\n"
          ]
        }
      ],
      "source": [
        "! pip3 install --upgrade --user google-cloud-aiplatform"
      ]
    },
    {
      "cell_type": "code",
      "execution_count": 1,
      "metadata": {
        "colab": {
          "base_uri": "https://localhost:8080/"
        },
        "id": "XRvKdaPDTznN",
        "outputId": "87b30aee-2f08-496f-e89b-30452965f328",
        "tags": [],
        "executionInfo": {
          "status": "ok",
          "timestamp": 1710839687199,
          "user_tz": 420,
          "elapsed": 2,
          "user": {
            "displayName": "",
            "userId": ""
          }
        }
      },
      "outputs": [
        {
          "output_type": "execute_result",
          "data": {
            "text/plain": [
              "{'status': 'ok', 'restart': True}"
            ]
          },
          "metadata": {},
          "execution_count": 1
        }
      ],
      "source": [
        "# Restart kernel after installs so that your environment can access the new packages\n",
        "import IPython\n",
        "import time\n",
        "\n",
        "app = IPython.Application.instance()\n",
        "app.kernel.do_shutdown(True)"
      ]
    },
    {
      "cell_type": "code",
      "execution_count": 2,
      "metadata": {
        "id": "NyKGtVQjgx13",
        "tags": [],
        "executionInfo": {
          "status": "ok",
          "timestamp": 1710839694066,
          "user_tz": 420,
          "elapsed": 2,
          "user": {
            "displayName": "",
            "userId": ""
          }
        }
      },
      "outputs": [],
      "source": [
        "import sys\n",
        "if \"google.colab\" in sys.modules:\n",
        "    from google.colab import auth\n",
        "\n",
        "    auth.authenticate_user()"
      ]
    },
    {
      "cell_type": "markdown",
      "metadata": {
        "id": "DF4l8DTdWgPY"
      },
      "source": [
        "# Initializing the Vertex AI SDK for Python"
      ]
    },
    {
      "cell_type": "code",
      "execution_count": 3,
      "metadata": {
        "id": "Nqwi-5ufWp_B",
        "tags": [],
        "executionInfo": {
          "status": "ok",
          "timestamp": 1710839721445,
          "user_tz": 420,
          "elapsed": 25322,
          "user": {
            "displayName": "",
            "userId": ""
          }
        }
      },
      "outputs": [],
      "source": [
        "# Define project information\n",
        "PROJECT_ID = \"llmpsu-416309\"\n",
        "LOCATION = \"us-central1\"\n",
        "import vertexai\n",
        "vertexai.init(project=PROJECT_ID, location=LOCATION)"
      ]
    },
    {
      "cell_type": "markdown",
      "metadata": {
        "id": "jXHfaVS66_01"
      },
      "source": [
        "### Import libraries\n"
      ]
    },
    {
      "cell_type": "code",
      "execution_count": 4,
      "metadata": {
        "id": "lslYAvw37JGQ",
        "tags": [],
        "executionInfo": {
          "status": "ok",
          "timestamp": 1710839735163,
          "user_tz": 420,
          "elapsed": 209,
          "user": {
            "displayName": "",
            "userId": ""
          }
        }
      },
      "outputs": [],
      "source": [
        "from vertexai.generative_models import (\n",
        "    GenerationConfig,\n",
        "    GenerativeModel,\n",
        ")"
      ]
    },
    {
      "cell_type": "code",
      "execution_count": 5,
      "metadata": {
        "id": "2998506fe6d1",
        "tags": [],
        "executionInfo": {
          "status": "ok",
          "timestamp": 1710839738248,
          "user_tz": 420,
          "elapsed": 398,
          "user": {
            "displayName": "",
            "userId": ""
          }
        }
      },
      "outputs": [],
      "source": [
        "model = GenerativeModel(\"gemini-1.0-pro\")"
      ]
    },
    {
      "cell_type": "code",
      "source": [],
      "metadata": {
        "id": "dWbWeQ1FusuL"
      },
      "execution_count": null,
      "outputs": []
    },
    {
      "cell_type": "code",
      "source": [
        "!pip install datasets"
      ],
      "metadata": {
        "colab": {
          "base_uri": "https://localhost:8080/"
        },
        "id": "Gn19dohvusj6",
        "executionInfo": {
          "status": "ok",
          "timestamp": 1710839752358,
          "user_tz": 420,
          "elapsed": 11291,
          "user": {
            "displayName": "",
            "userId": ""
          }
        },
        "outputId": "100e737a-11d9-47c4-b6d1-24076bb13f22"
      },
      "execution_count": 6,
      "outputs": [
        {
          "output_type": "stream",
          "name": "stdout",
          "text": [
            "Collecting datasets\n",
            "  Downloading datasets-2.18.0-py3-none-any.whl (510 kB)\n",
            "\u001b[2K     \u001b[90m━━━━━━━━━━━━━━━━━━━━━━━━━━━━━━━━━━━━━━━━\u001b[0m \u001b[32m510.5/510.5 kB\u001b[0m \u001b[31m3.0 MB/s\u001b[0m eta \u001b[36m0:00:00\u001b[0m\n",
            "\u001b[?25hRequirement already satisfied: filelock in /usr/local/lib/python3.10/dist-packages (from datasets) (3.13.1)\n",
            "Requirement already satisfied: numpy>=1.17 in /usr/local/lib/python3.10/dist-packages (from datasets) (1.25.2)\n",
            "Requirement already satisfied: pyarrow>=12.0.0 in /usr/local/lib/python3.10/dist-packages (from datasets) (14.0.2)\n",
            "Requirement already satisfied: pyarrow-hotfix in /usr/local/lib/python3.10/dist-packages (from datasets) (0.6)\n",
            "Collecting dill<0.3.9,>=0.3.0 (from datasets)\n",
            "  Downloading dill-0.3.8-py3-none-any.whl (116 kB)\n",
            "\u001b[2K     \u001b[90m━━━━━━━━━━━━━━━━━━━━━━━━━━━━━━━━━━━━━━━━\u001b[0m \u001b[32m116.3/116.3 kB\u001b[0m \u001b[31m16.6 MB/s\u001b[0m eta \u001b[36m0:00:00\u001b[0m\n",
            "\u001b[?25hRequirement already satisfied: pandas in /usr/local/lib/python3.10/dist-packages (from datasets) (1.5.3)\n",
            "Requirement already satisfied: requests>=2.19.0 in /usr/local/lib/python3.10/dist-packages (from datasets) (2.31.0)\n",
            "Requirement already satisfied: tqdm>=4.62.1 in /usr/local/lib/python3.10/dist-packages (from datasets) (4.66.2)\n",
            "Requirement already satisfied: xxhash in /usr/local/lib/python3.10/dist-packages (from datasets) (3.4.1)\n",
            "Collecting multiprocess (from datasets)\n",
            "  Downloading multiprocess-0.70.16-py310-none-any.whl (134 kB)\n",
            "\u001b[2K     \u001b[90m━━━━━━━━━━━━━━━━━━━━━━━━━━━━━━━━━━━━━━━━\u001b[0m \u001b[32m134.8/134.8 kB\u001b[0m \u001b[31m17.0 MB/s\u001b[0m eta \u001b[36m0:00:00\u001b[0m\n",
            "\u001b[?25hRequirement already satisfied: fsspec[http]<=2024.2.0,>=2023.1.0 in /usr/local/lib/python3.10/dist-packages (from datasets) (2023.6.0)\n",
            "Requirement already satisfied: aiohttp in /usr/local/lib/python3.10/dist-packages (from datasets) (3.9.3)\n",
            "Requirement already satisfied: huggingface-hub>=0.19.4 in /usr/local/lib/python3.10/dist-packages (from datasets) (0.20.3)\n",
            "Requirement already satisfied: packaging in /usr/local/lib/python3.10/dist-packages (from datasets) (23.2)\n",
            "Requirement already satisfied: pyyaml>=5.1 in /usr/local/lib/python3.10/dist-packages (from datasets) (6.0.1)\n",
            "Requirement already satisfied: aiosignal>=1.1.2 in /usr/local/lib/python3.10/dist-packages (from aiohttp->datasets) (1.3.1)\n",
            "Requirement already satisfied: attrs>=17.3.0 in /usr/local/lib/python3.10/dist-packages (from aiohttp->datasets) (23.2.0)\n",
            "Requirement already satisfied: frozenlist>=1.1.1 in /usr/local/lib/python3.10/dist-packages (from aiohttp->datasets) (1.4.1)\n",
            "Requirement already satisfied: multidict<7.0,>=4.5 in /usr/local/lib/python3.10/dist-packages (from aiohttp->datasets) (6.0.5)\n",
            "Requirement already satisfied: yarl<2.0,>=1.0 in /usr/local/lib/python3.10/dist-packages (from aiohttp->datasets) (1.9.4)\n",
            "Requirement already satisfied: async-timeout<5.0,>=4.0 in /usr/local/lib/python3.10/dist-packages (from aiohttp->datasets) (4.0.3)\n",
            "Requirement already satisfied: typing-extensions>=3.7.4.3 in /usr/local/lib/python3.10/dist-packages (from huggingface-hub>=0.19.4->datasets) (4.10.0)\n",
            "Requirement already satisfied: charset-normalizer<4,>=2 in /usr/local/lib/python3.10/dist-packages (from requests>=2.19.0->datasets) (3.3.2)\n",
            "Requirement already satisfied: idna<4,>=2.5 in /usr/local/lib/python3.10/dist-packages (from requests>=2.19.0->datasets) (3.6)\n",
            "Requirement already satisfied: urllib3<3,>=1.21.1 in /usr/local/lib/python3.10/dist-packages (from requests>=2.19.0->datasets) (2.0.7)\n",
            "Requirement already satisfied: certifi>=2017.4.17 in /usr/local/lib/python3.10/dist-packages (from requests>=2.19.0->datasets) (2024.2.2)\n",
            "Requirement already satisfied: python-dateutil>=2.8.1 in /usr/local/lib/python3.10/dist-packages (from pandas->datasets) (2.8.2)\n",
            "Requirement already satisfied: pytz>=2020.1 in /usr/local/lib/python3.10/dist-packages (from pandas->datasets) (2023.4)\n",
            "Requirement already satisfied: six>=1.5 in /usr/local/lib/python3.10/dist-packages (from python-dateutil>=2.8.1->pandas->datasets) (1.16.0)\n",
            "Installing collected packages: dill, multiprocess, datasets\n",
            "Successfully installed datasets-2.18.0 dill-0.3.8 multiprocess-0.70.16\n"
          ]
        }
      ]
    },
    {
      "cell_type": "code",
      "source": [],
      "metadata": {
        "id": "P8W7WdTev7tG"
      },
      "execution_count": null,
      "outputs": []
    },
    {
      "cell_type": "markdown",
      "metadata": {
        "id": "AIl7R_jBUsaC"
      },
      "source": [
        "# Predicting the Answers from the Prompts\n",
        "\n",
        "\n"
      ]
    },
    {
      "cell_type": "code",
      "execution_count": null,
      "metadata": {
        "id": "eAo-UsfZECGF",
        "tags": []
      },
      "outputs": [],
      "source": [
        "from datasets import load_dataset\n",
        "data = load_dataset(\"hanesh007/mtdataset_exp\")\n",
        "def ranger(x,y):\n",
        "  first_six=data['train'].select(range(x,y))\n",
        "# Iterate over the rows of the dataframe\n",
        "  for example in first_six:\n",
        "    question = f\"For the question: {example['Question']} from the options: {example['Options']} choose the answer from options and provide only it\"\n",
        "    responses = model.generate_content(question, stream=True)\n",
        "    for response in responses:\n",
        "      print(\"Question: \", example['Question'])\n",
        "      print(\"Options: \", example['Options'])\n",
        "      print(\"Orginal Answer: \", example['Answer'])\n",
        "      print(\"Predicted Answer:\", response.text)\n",
        "      print(\" \")"
      ]
    },
    {
      "cell_type": "code",
      "source": [
        "ranger(0,5)"
      ],
      "metadata": {
        "colab": {
          "base_uri": "https://localhost:8080/"
        },
        "id": "3DK92Rvwxc8S",
        "executionInfo": {
          "status": "ok",
          "timestamp": 1710268660299,
          "user_tz": 420,
          "elapsed": 1958,
          "user": {
            "displayName": "",
            "userId": ""
          }
        },
        "outputId": "d69fbf13-4790-41e1-fe71-b7271c930644"
      },
      "execution_count": null,
      "outputs": [
        {
          "output_type": "stream",
          "name": "stdout",
          "text": [
            "Question:  What is the largest organ in the human body?\n",
            "Options:  a) Liver, b) Skin, c) Heart, d) Brain\n",
            "Orginal Answer:  b) Skin\n",
            "Predicted Answer: b)\n",
            " \n",
            "Question:  Which organ produces insulin in the human body?\n",
            "Options:  a) Pancreas, b) Liver, c) Kidney, d) Gallbladder\n",
            "Orginal Answer:  a) Pancreas\n",
            "Predicted Answer: a) Pancreas\n",
            " \n",
            "Question:  What is the unit of measurement for blood pressure?\n",
            "Options:  a) Liters, b) Pounds, c) Milligrams, d) Millimeters\n",
            "Orginal Answer:  d) Millimeters\n",
            "Predicted Answer: d) Millimeters\n",
            " \n",
            "Question:  Which blood type is considered the universal donor?\n",
            "Options:  a) A, b) B, c) AB, d) O\n",
            "Orginal Answer:  d) O\n",
            "Predicted Answer: d) O\n",
            " \n",
            "Question:  What is the term for low blood sugar?\n",
            "Options:  a) Hypertension, b) Hyperglycemia, c) Hypoglycemia, d) Hyperkalemia\n",
            "Orginal Answer:  c) Hypoglycemia\n",
            "Predicted Answer: c) Hypoglycemia\n",
            " \n"
          ]
        }
      ]
    },
    {
      "cell_type": "code",
      "source": [
        "ranger(6,12)"
      ],
      "metadata": {
        "colab": {
          "base_uri": "https://localhost:8080/"
        },
        "id": "I3tqlM3S2LNZ",
        "executionInfo": {
          "status": "ok",
          "timestamp": 1710217366856,
          "user_tz": 420,
          "elapsed": 3228,
          "user": {
            "displayName": "",
            "userId": ""
          }
        },
        "outputId": "b5742d5d-8f63-4d48-93a1-4ea685ed4487"
      },
      "execution_count": null,
      "outputs": [
        {
          "output_type": "stream",
          "name": "stdout",
          "text": [
            "Question:  Which organ filters waste products from the blood?\n",
            "Options:  a) Liver, b) Kidney, c) Spleen, d) Stomach\n",
            "Orginal Answer:  b) Kidney\n",
            "Predicted Answer: b) Kidney\n",
            " \n",
            "Question:  What is the smallest unit of life?\n",
            "Options:  a) Cell, b) Atom, c) Molecule, d) Organ\n",
            "Orginal Answer:  a) Cell\n",
            "Predicted Answer: a) Cell\n",
            " \n",
            "Question:  Which hormone regulates the sleep-wake cycle?\n",
            "Options:  a) Insulin, b) Melatonin, c) Adrenaline, d) Estrogen\n",
            "Orginal Answer:  b) Melatonin\n",
            "Predicted Answer: b) Melatonin\n",
            " \n",
            "Question:  Which of the following is responsible for transmitting electrical signals in the nervous system?\n",
            "Options:  a) Neurons, b) Hormones, c) Enzymes, d) Antibodies\n",
            "Orginal Answer:  a) Neurons\n",
            "Predicted Answer: a) Neurons\n",
            " \n",
            "Question:  Which vitamin is synthesized in the skin upon exposure to sunlight?\n",
            "Options:  a) Vitamin-A, b) Vitamin-C, c) Vitamin-D, d) Vitamin-E\n",
            "Orginal Answer:  c) Vitamin-D\n",
            "Predicted Answer: c) Vitamin-D\n",
            " \n",
            "Question:  Another name for the ankle bone is the:\n",
            "Options:  a) Tarsus, b) Metatarsus, c) Calcaneus, d) Talus\n",
            "Orginal Answer:  d) Talus\n",
            "Predicted Answer: d) Talus\n",
            " \n"
          ]
        }
      ]
    },
    {
      "cell_type": "code",
      "source": [
        "ranger(13,16)"
      ],
      "metadata": {
        "colab": {
          "base_uri": "https://localhost:8080/"
        },
        "id": "o-IRaDVv5h8a",
        "executionInfo": {
          "status": "ok",
          "timestamp": 1710217396863,
          "user_tz": 420,
          "elapsed": 1562,
          "user": {
            "displayName": "",
            "userId": ""
          }
        },
        "outputId": "9b6e1054-9d4a-4ca2-dba1-a337a811f0a4"
      },
      "execution_count": null,
      "outputs": [
        {
          "output_type": "stream",
          "name": "stdout",
          "text": [
            "Question:  What is the medical term for inflammation of the joints?\n",
            "Options:  a) Arthritis, b) Osteoporosis, c) Fibromyalgia, d) Gout\n",
            "Orginal Answer:  a) Arthritis\n",
            "Predicted Answer: a) Arthritis\n",
            " \n",
            "Question:  Which organ is responsible for producing bile to aid in digestion?\n",
            "Options:  a) Liver, b) Stomach, c) Gallbladder, d) Pancreas\n",
            "Orginal Answer:  a) Liver\n",
            "Predicted Answer: a) Liver\n",
            " \n",
            "Question:  What is the medical term for the voice box?\n",
            "Options:  a) Larynx, b) Pharynx, c) Trachea, d) Esophagus\n",
            "Orginal Answer:  a) Larynx\n",
            "Predicted Answer: a) Larynx\n",
            " \n"
          ]
        }
      ]
    },
    {
      "cell_type": "code",
      "source": [
        "ranger(19,25)"
      ],
      "metadata": {
        "colab": {
          "base_uri": "https://localhost:8080/"
        },
        "id": "-xxEPY595pP-",
        "executionInfo": {
          "status": "ok",
          "timestamp": 1710217510733,
          "user_tz": 420,
          "elapsed": 4307,
          "user": {
            "displayName": "",
            "userId": ""
          }
        },
        "outputId": "e2770d6b-6bf2-41aa-9ed2-6127ffd6ef57"
      },
      "execution_count": null,
      "outputs": [
        {
          "output_type": "stream",
          "name": "stdout",
          "text": [
            "Question:  Which part of the eye is responsible for focusing light onto the retina?\n",
            "Options:  a) Lens, b) Iris, c) Cornea, d) Optic nerve\n",
            "Orginal Answer:  a) Lens\n",
            "Predicted Answer: a) Lens\n",
            " \n",
            "Question:  A prominence called the olecranon process is found on the:\n",
            "Options:  a) Knee, b) Hip, c) Elbow, d) Shoulder\n",
            "Orginal Answer:  c) Elbow\n",
            "Predicted Answer: c) Elbow\n",
            " \n",
            "Question:  Together, the right and left lungs contain how many lobes?\n",
            "Options:  a) 6, b) 2, c) 5, d) 3\n",
            "Orginal Answer:  c) 5\n",
            "Predicted Answer: a) 6\n",
            " \n",
            "Question:  Which of the following systems is responsible for releasing chemicals that regulate body activities?\n",
            "Options:  a) Skeletal, b) Cardiovascular, c) Nervous, d) Endocrine\n",
            "Orginal Answer:  d) Endocrine\n",
            "Predicted Answer: c) Nervous\n",
            " \n",
            "Question:  What type of muscle has its own rich supply of blood?\n",
            "Options:  a) Voluntary, b) Musculogenic, c) Cardiac, d) Skeletal\n",
            "Orginal Answer:  c) Cardiac\n",
            "Predicted Answer: c) Cardiac\n",
            " \n",
            "Question:  Blood pressure is mainly measured in Hg. What does Hg refer to?\n",
            "Options:  (a) Hygrometer, (b) Heliograph, (c) Hydrogen, (d) Mercury\n",
            "Orginal Answer:  (d) Mercury\n",
            "Predicted Answer: (d) Mercury\n",
            " \n"
          ]
        }
      ]
    },
    {
      "cell_type": "code",
      "source": [
        "ranger(27,28)"
      ],
      "metadata": {
        "colab": {
          "base_uri": "https://localhost:8080/"
        },
        "id": "0w52w7gv57zU",
        "executionInfo": {
          "status": "ok",
          "timestamp": 1710217557338,
          "user_tz": 420,
          "elapsed": 564,
          "user": {
            "displayName": "",
            "userId": ""
          }
        },
        "outputId": "e9b96148-a0e2-479b-9802-298d66a640b4"
      },
      "execution_count": null,
      "outputs": [
        {
          "output_type": "stream",
          "name": "stdout",
          "text": [
            "Question:  What is the meaning for the prefix 'mega'?\n",
            "Options:  a) Small, b) Tiny, c) Slow, d) Large\n",
            "Orginal Answer:  d) Large\n",
            "Predicted Answer: d) Large\n",
            " \n"
          ]
        }
      ]
    },
    {
      "cell_type": "code",
      "source": [
        "ranger(30,35)"
      ],
      "metadata": {
        "colab": {
          "base_uri": "https://localhost:8080/"
        },
        "id": "6k_usarV56gq",
        "executionInfo": {
          "status": "ok",
          "timestamp": 1710217583384,
          "user_tz": 420,
          "elapsed": 2937,
          "user": {
            "displayName": "",
            "userId": ""
          }
        },
        "outputId": "b00e7c03-5b15-4fee-bcc2-27dc332eed02"
      },
      "execution_count": null,
      "outputs": [
        {
          "output_type": "stream",
          "name": "stdout",
          "text": [
            "Question:  The shortest acting oral hypoglycemics:\n",
            "Options:  a) Glipizide, b) Glibenclamide, c) Gliclazide, d) Glimeperide\n",
            "Orginal Answer:  a) Glipizide\n",
            "Predicted Answer: d) Glimeperide\n",
            " \n",
            "Question:  Which one is responsible for the red color of human blood?\n",
            "Options:  (a) Plasma, (b) Hemoglobin, (c) WBC, (d) Haemocyanin\n",
            "Orginal Answer:  (b) Hemoglobin\n",
            "Predicted Answer: (b) Hemoglobin\n",
            " \n",
            "Question:  The average blood pressure in the human body?\n",
            "Options:  (a) 100/80, (b) 80/100, (c) 120/80, (d) 80/120\n",
            "Orginal Answer:  (c) 120/80\n",
            "Predicted Answer: (c) 120/80\n",
            " \n",
            "Question:  Blood pressure is mainly measured in Hg. What does Hg refer to?\n",
            "Options:  (a) Hygrometer, (b) Heliograph, (c) Hydrogen, (d) Mercury\n",
            "Orginal Answer:  (d) Mercury\n",
            "Predicted Answer: (d) Mercury\n",
            " \n",
            "Question:  When a person gets older, his blood pressure generally-\n",
            "Options:  (a) Remains the same, (b) Increases, (c) Decreases, (d) Varies frequently\n",
            "Orginal Answer:  (b) Increases\n",
            "Predicted Answer: (b) Increases\n",
            " \n"
          ]
        }
      ]
    },
    {
      "cell_type": "code",
      "source": [
        "ranger(36,40)"
      ],
      "metadata": {
        "colab": {
          "base_uri": "https://localhost:8080/"
        },
        "id": "tURwnYrG6Wd-",
        "executionInfo": {
          "status": "ok",
          "timestamp": 1710217603788,
          "user_tz": 420,
          "elapsed": 2657,
          "user": {
            "displayName": "",
            "userId": ""
          }
        },
        "outputId": "24b96311-0e54-4f5e-9b0a-2b192a91870c"
      },
      "execution_count": null,
      "outputs": [
        {
          "output_type": "stream",
          "name": "stdout",
          "text": [
            "Question:  Which of the given blood groups is a universal donor?\n",
            "Options:  (a) A, (b) AB, (c) B, (d) O\n",
            "Orginal Answer:  (d) O\n",
            "Predicted Answer: (d) O\n",
            " \n",
            "Question:  Which of the given blood groups is a universal recipient?\n",
            "Options:  (a) AB, (b) O, (c) A, (d) B\n",
            "Orginal Answer:  (a) AB\n",
            "Predicted Answer: (a) AB\n",
            " \n",
            "Question:  In which part of our body are formed Red Blood Cells?\n",
            "Options:  (a) Bone Marrow, (b) Heart, (c) Kidney, (d) Liver\n",
            "Orginal Answer:  (a) Bone Marrow\n",
            "Predicted Answer: (a) Bone Marrow\n",
            " \n",
            "Question:  The excess of white corpuscles in the blood is called?\n",
            "Options:  (a) Anoxia, (b) Leukaemia, (c) Septicemia, (d) Anaemia\n",
            "Orginal Answer:  (b) Leukaemia\n",
            "Predicted Answer: (b) Leukaemia\n",
            " \n"
          ]
        }
      ]
    },
    {
      "cell_type": "markdown",
      "metadata": {
        "id": "ga0xM9z9fAnR"
      },
      "source": [
        "### Chat Based Gemini Model"
      ]
    },
    {
      "cell_type": "code",
      "execution_count": null,
      "metadata": {
        "id": "SFbGVflTfBBk",
        "outputId": "16f534ad-d71c-4556-e07f-f8584dc0932c",
        "tags": [],
        "colab": {
          "base_uri": "https://localhost:8080/"
        },
        "executionInfo": {
          "status": "ok",
          "timestamp": 1710446905888,
          "user_tz": 420,
          "elapsed": 3731,
          "user": {
            "displayName": "",
            "userId": ""
          }
        }
      },
      "outputs": [
        {
          "output_type": "stream",
          "name": "stdout",
          "text": [
            "**Spotfire Admin**\n",
            "\n",
            "Spotfire Admin is a role within the Spotfire environment that grants users administrative privileges to manage the Spotfire environment. Admins have the ability to perform the following tasks:\n",
            "\n",
            "**Security and User Management:**\n",
            "\n",
            "* Create, manage, and delete user accounts\n",
            "* Assign roles and permissions to users\n",
            "* Configure authentication methods\n",
            "* Enforce security policies\n",
            "\n",
            "**Data Management:**\n",
            "\n",
            "* Import and export data\n",
            "* Create and manage data connections\n",
            "* Define data security and access levels\n",
            "* Optimize data performance\n",
            "\n",
            "**Server Administration:**\n",
            "\n",
            "* Manage Spotfire servers and installations\n",
            "* Configure server settings and performance parameters\n",
            "* Monitor server health and usage\n",
            "* Perform system updates and maintenance\n",
            "\n",
            "**Content Management:**\n",
            "\n",
            "* Create, manage, and delete Spotfire analyses, dashboards, and reports\n",
            "* Configure permissions for content sharing\n",
            "* Control access to and visibility of content\n",
            "* Publish content to the web and other platforms\n",
            "\n",
            "**Environment Configuration:**\n",
            "\n",
            "* Configure global settings and preferences\n",
            "* Manage themes, visualizations, and extensions\n",
            "* Customize the Spotfire user interface\n",
            "* Integrate with other systems and applications\n",
            "\n",
            "**Monitoring and Reporting:**\n",
            "\n",
            "* Monitor user activity and system usage\n",
            "* Generate reports on usage patterns, performance, and security\n",
            "* Identify and troubleshoot issues\n",
            "\n",
            "**Additional Responsibilities:**\n",
            "\n",
            "* Ensure compliance with data privacy regulations\n",
            "* Implement best practices for security and data governance\n",
            "* Provide support and training to Spotfire users\n",
            "* Stay up-to-date on Spotfire product updates and features\n",
            "\n",
            "**Requirements for Spotfire Admins:**\n",
            "\n",
            "* Strong understanding of Spotfire products and functionality\n",
            "* Knowledge of data management, security, and system administration\n",
            "* Excellent communication and interpersonal skills\n",
            "* Ability to work independently and as part of a team\n",
            "* Analytical and problem-solving abilities"
          ]
        }
      ],
      "source": [
        "chat = model.start_chat()\n",
        "\n",
        "prompt = \"\"\" I want infromation regarding spotfire admin \"\"\"\n",
        "\n",
        "responses = chat.send_message(prompt, stream=True)\n",
        "\n",
        "for response in responses:\n",
        "    print(response.text, end=\"\")"
      ]
    },
    {
      "cell_type": "markdown",
      "metadata": {
        "id": "ZP_z_Oh1J4nk"
      },
      "source": [
        "Follow-up prompt:\n"
      ]
    },
    {
      "cell_type": "code",
      "execution_count": null,
      "metadata": {
        "id": "OCq7JNBKJrI8",
        "outputId": "902adc40-1c15-462f-fb20-f96ca7d5ccd3",
        "tags": [],
        "colab": {
          "base_uri": "https://localhost:8080/"
        },
        "executionInfo": {
          "status": "ok",
          "timestamp": 1710446966782,
          "user_tz": 420,
          "elapsed": 3559,
          "user": {
            "displayName": "",
            "userId": ""
          }
        }
      },
      "outputs": [
        {
          "output_type": "stream",
          "name": "stdout",
          "text": [
            "**Example of a Spotfire Admin:**\n",
            "\n",
            "**Name:** Jane Doe\n",
            "\n",
            "**Role:** Spotfire Administrator\n",
            "\n",
            "**Responsibilities:**\n",
            "\n",
            "* Manage user accounts and permissions, including creating, deleting, and assigning roles\n",
            "* Configure authentication methods and enforce security policies\n",
            "* Import and export data, and create and manage data connections\n",
            "* Define data security and access levels, and optimize data performance\n",
            "* Manage Spotfire servers and installations, including configuring server settings and performing system updates\n",
            "* Create, manage, and publish Spotfire analyses, dashboards, and reports\n",
            "* Configure permissions for content sharing and control access to content\n",
            "* Customize the Spotfire user interface and integrate with other systems\n",
            "* Monitor user activity and system usage, and generate reports on usage patterns and performance\n",
            "* Provide support and training to Spotfire users\n",
            "* Stay up-to-date on Spotfire product updates and features\n",
            "\n",
            "**Qualifications:**\n",
            "\n",
            "* Bachelor's degree in computer science, information technology, or a related field\n",
            "* 3+ years of experience in data management, security, and system administration\n",
            "* Strong understanding of Spotfire products and functionality\n",
            "* Excellent communication and interpersonal skills\n",
            "* Ability to work independently and as part of a team\n",
            "* Analytical and problem-solving abilities\n",
            "\n",
            "**Example of a Spotfire Admin Task:**\n",
            "\n",
            "Jane Doe, the Spotfire Admin, needs to create a new user account for a new employee, John Smith. Jane logs into the Spotfire Admin Console and navigates to the User Management section. She clicks on the \"Create User\" button and enters John Smith's name, email address, and department. Jane then assigns John the \"Analyst\" role, which grants him access to create and edit Spotfire analyses and dashboards. Jane also configures John's authentication method to be single sign-on (SSO) using the company's Active Directory. Finally, Jane sends John an email with his login credentials and instructions on how to access Spotfire."
          ]
        }
      ],
      "source": [
        "prompt = \"Provide me a example for it\"\n",
        "\n",
        "responses = chat.send_message(prompt, stream=True)\n",
        "\n",
        "for response in responses:\n",
        "    print(response.text, end=\"\")"
      ]
    },
    {
      "cell_type": "code",
      "source": [
        "prompt = \"What are the challanges that are faced by a spotfire a admin\"\n",
        "\n",
        "responses = chat.send_message(prompt, stream=True)\n",
        "\n",
        "for response in responses:\n",
        "    print(response.text, end=\"\")"
      ],
      "metadata": {
        "colab": {
          "base_uri": "https://localhost:8080/"
        },
        "id": "D8xj5B2gQsPt",
        "executionInfo": {
          "status": "ok",
          "timestamp": 1710447013921,
          "user_tz": 420,
          "elapsed": 4548,
          "user": {
            "displayName": "",
            "userId": ""
          }
        },
        "outputId": "cd7c0bc9-6924-48e0-ae24-d5bd56688656"
      },
      "execution_count": null,
      "outputs": [
        {
          "output_type": "stream",
          "name": "stdout",
          "text": [
            "**Challenges Faced by a Spotfire Admin:**\n",
            "\n",
            "* **Data Security and Compliance:** Ensuring the security and privacy of data in the Spotfire environment is a top priority for admins. This includes implementing data access controls, encryption, and monitoring for suspicious activity. Admins must also stay up-to-date on data privacy regulations and ensure compliance.\n",
            "* **Performance Optimization:** Spotfire admins are responsible for optimizing the performance of the Spotfire environment to ensure smooth and efficient operation. This involves monitoring system resources, tuning server settings, and optimizing data queries.\n",
            "* **User Management and Training:** Admins must manage a diverse user base with varying levels of technical expertise. They need to provide onboarding and training to new users, as well as ongoing support and troubleshooting assistance.\n",
            "* **Content Governance:** Admins are responsible for ensuring the quality and consistency of Spotfire content. This involves establishing content standards, reviewing and approving content before publishing, and managing version control.\n",
            "* **Integration with Other Systems:** Spotfire often needs to be integrated with other enterprise systems, such as CRM, ERP, and data warehouses. Admins must have a good understanding of these systems and be able to configure and maintain integrations.\n",
            "* **Keeping Up with Technology Updates:** Spotfire releases regular product updates and new features. Admins need to stay up-to-date with these updates and evaluate their impact on the Spotfire environment.\n",
            "* **Troubleshooting and Problem Solving:** Admins are often the first line of support for Spotfire users. They need to be able to troubleshoot and resolve issues quickly and efficiently, including data connectivity problems, performance issues, and user errors.\n",
            "* **Resource Management:** Admins need to manage Spotfire resources, such as server capacity, storage space, and user licenses. They need to ensure that resources are allocated appropriately to meet the needs of the organization.\n",
            "* **Collaboration with Stakeholders:** Admins need to collaborate with stakeholders across the organization, including IT, business users, and data analysts, to understand their needs and ensure that Spotfire meets their requirements.\n",
            "\n",
            "**Additional Challenges:**\n",
            "\n",
            "* Managing a large and complex Spotfire environment\n",
            "* Keeping up with the latest Spotfire best practices\n",
            "* Ensuring that Spotfire is aligned with the organization's overall data strategy\n",
            "* Addressing the needs of a diverse user base with varying technical skills"
          ]
        }
      ]
    },
    {
      "cell_type": "markdown",
      "metadata": {
        "id": "LLSpo4qQHNpI"
      },
      "source": [
        "# Chat history:\n"
      ]
    },
    {
      "cell_type": "code",
      "execution_count": null,
      "metadata": {
        "id": "DAyhwvMtHNpI",
        "outputId": "4de3e95e-0793-4633-b6a2-64d0c3b0ca42",
        "tags": [],
        "colab": {
          "base_uri": "https://localhost:8080/"
        },
        "executionInfo": {
          "status": "ok",
          "timestamp": 1710447045252,
          "user_tz": 420,
          "elapsed": 236,
          "user": {
            "displayName": "",
            "userId": ""
          }
        }
      },
      "outputs": [
        {
          "output_type": "stream",
          "name": "stdout",
          "text": [
            "[role: \"user\"\n",
            "parts {\n",
            "  text: \" I want infromation regarding spotfire admin \"\n",
            "}\n",
            ", role: \"model\"\n",
            "parts {\n",
            "  text: \"**Spotfire Admin**\\n\\nSpotfire Admin is a role within the Spotfire environment that grants users administrative privileges to manage the Spotfire environment. Admins have the ability to perform the following tasks:\\n\\n**Security and User Management:**\\n\\n* Create, manage, and delete user accounts\\n* Assign roles and permissions to users\\n* Configure authentication methods\\n* Enforce security policies\\n\\n**Data Management:**\\n\\n* Import and export data\\n* Create and manage data connections\\n* Define data security and access levels\\n* Optimize data performance\\n\\n**Server Administration:**\\n\\n* Manage Spotfire servers and installations\\n* Configure server settings and performance parameters\\n* Monitor server health and usage\\n* Perform system updates and maintenance\\n\\n**Content Management:**\\n\\n* Create, manage, and delete Spotfire analyses, dashboards, and reports\\n* Configure permissions for content sharing\\n* Control access to and visibility of content\\n* Publish content to the web and other platforms\\n\\n**Environment Configuration:**\\n\\n* Configure global settings and preferences\\n* Manage themes, visualizations, and extensions\\n* Customize the Spotfire user interface\\n* Integrate with other systems and applications\\n\\n**Monitoring and Reporting:**\\n\\n* Monitor user activity and system usage\\n* Generate reports on usage patterns, performance, and security\\n* Identify and troubleshoot issues\\n\\n**Additional Responsibilities:**\\n\\n* Ensure compliance with data privacy regulations\\n* Implement best practices for security and data governance\\n* Provide support and training to Spotfire users\\n* Stay up-to-date on Spotfire product updates and features\\n\\n**Requirements for Spotfire Admins:**\\n\\n* Strong understanding of Spotfire products and functionality\\n* Knowledge of data management, security, and system administration\\n* Excellent communication and interpersonal skills\\n* Ability to work independently and as part of a team\\n* Analytical and problem-solving abilities\"\n",
            "}\n",
            ", role: \"user\"\n",
            "parts {\n",
            "  text: \"Provide me a example for it\"\n",
            "}\n",
            ", role: \"model\"\n",
            "parts {\n",
            "  text: \"**Example of a Spotfire Admin:**\\n\\n**Name:** Jane Doe\\n\\n**Role:** Spotfire Administrator\\n\\n**Responsibilities:**\\n\\n* Manage user accounts and permissions, including creating, deleting, and assigning roles\\n* Configure authentication methods and enforce security policies\\n* Import and export data, and create and manage data connections\\n* Define data security and access levels, and optimize data performance\\n* Manage Spotfire servers and installations, including configuring server settings and performing system updates\\n* Create, manage, and publish Spotfire analyses, dashboards, and reports\\n* Configure permissions for content sharing and control access to content\\n* Customize the Spotfire user interface and integrate with other systems\\n* Monitor user activity and system usage, and generate reports on usage patterns and performance\\n* Provide support and training to Spotfire users\\n* Stay up-to-date on Spotfire product updates and features\\n\\n**Qualifications:**\\n\\n* Bachelor\\'s degree in computer science, information technology, or a related field\\n* 3+ years of experience in data management, security, and system administration\\n* Strong understanding of Spotfire products and functionality\\n* Excellent communication and interpersonal skills\\n* Ability to work independently and as part of a team\\n* Analytical and problem-solving abilities\\n\\n**Example of a Spotfire Admin Task:**\\n\\nJane Doe, the Spotfire Admin, needs to create a new user account for a new employee, John Smith. Jane logs into the Spotfire Admin Console and navigates to the User Management section. She clicks on the \\\"Create User\\\" button and enters John Smith\\'s name, email address, and department. Jane then assigns John the \\\"Analyst\\\" role, which grants him access to create and edit Spotfire analyses and dashboards. Jane also configures John\\'s authentication method to be single sign-on (SSO) using the company\\'s Active Directory. Finally, Jane sends John an email with his login credentials and instructions on how to access Spotfire.\"\n",
            "}\n",
            ", role: \"user\"\n",
            "parts {\n",
            "  text: \"What are the challanges that are faced by a spotfire a admin\"\n",
            "}\n",
            ", role: \"model\"\n",
            "parts {\n",
            "  text: \"**Challenges Faced by a Spotfire Admin:**\\n\\n* **Data Security and Compliance:** Ensuring the security and privacy of data in the Spotfire environment is a top priority for admins. This includes implementing data access controls, encryption, and monitoring for suspicious activity. Admins must also stay up-to-date on data privacy regulations and ensure compliance.\\n* **Performance Optimization:** Spotfire admins are responsible for optimizing the performance of the Spotfire environment to ensure smooth and efficient operation. This involves monitoring system resources, tuning server settings, and optimizing data queries.\\n* **User Management and Training:** Admins must manage a diverse user base with varying levels of technical expertise. They need to provide onboarding and training to new users, as well as ongoing support and troubleshooting assistance.\\n* **Content Governance:** Admins are responsible for ensuring the quality and consistency of Spotfire content. This involves establishing content standards, reviewing and approving content before publishing, and managing version control.\\n* **Integration with Other Systems:** Spotfire often needs to be integrated with other enterprise systems, such as CRM, ERP, and data warehouses. Admins must have a good understanding of these systems and be able to configure and maintain integrations.\\n* **Keeping Up with Technology Updates:** Spotfire releases regular product updates and new features. Admins need to stay up-to-date with these updates and evaluate their impact on the Spotfire environment.\\n* **Troubleshooting and Problem Solving:** Admins are often the first line of support for Spotfire users. They need to be able to troubleshoot and resolve issues quickly and efficiently, including data connectivity problems, performance issues, and user errors.\\n* **Resource Management:** Admins need to manage Spotfire resources, such as server capacity, storage space, and user licenses. They need to ensure that resources are allocated appropriately to meet the needs of the organization.\\n* **Collaboration with Stakeholders:** Admins need to collaborate with stakeholders across the organization, including IT, business users, and data analysts, to understand their needs and ensure that Spotfire meets their requirements.\\n\\n**Additional Challenges:**\\n\\n* Managing a large and complex Spotfire environment\\n* Keeping up with the latest Spotfire best practices\\n* Ensuring that Spotfire is aligned with the organization\\'s overall data strategy\\n* Addressing the needs of a diverse user base with varying technical skills\"\n",
            "}\n",
            "]\n"
          ]
        }
      ],
      "source": [
        "print(chat.history)"
      ]
    },
    {
      "cell_type": "code",
      "source": [],
      "metadata": {
        "id": "cx4WZR57GdCE"
      },
      "execution_count": null,
      "outputs": []
    }
  ],
  "metadata": {
    "colab": {
      "provenance": []
    },
    "environment": {
      "kernel": "conda-root-py",
      "name": "workbench-notebooks.m115",
      "type": "gcloud",
      "uri": "gcr.io/deeplearning-platform-release/workbench-notebooks:m115"
    },
    "kernelspec": {
      "display_name": "Python 3 (ipykernel) (Local)",
      "language": "python",
      "name": "conda-root-py"
    },
    "language_info": {
      "codemirror_mode": {
        "name": "ipython",
        "version": 3
      },
      "file_extension": ".py",
      "mimetype": "text/x-python",
      "name": "python",
      "nbconvert_exporter": "python",
      "pygments_lexer": "ipython3",
      "version": "3.10.13"
    }
  },
  "nbformat": 4,
  "nbformat_minor": 0
}